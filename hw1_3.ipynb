{
 "cells": [
  {
   "cell_type": "code",
   "execution_count": 11,
   "metadata": {},
   "outputs": [
    {
     "name": "stdout",
     "output_type": "stream",
     "text": [
      "Введите день рождения:31\n",
      "Введите месяц рождения:декабрь\n"
     ]
    }
   ],
   "source": [
    "date=int(input(\"Введите день рождения:\"))\n",
    "month=(input(\"Введите месяц рождения:\"))"
   ]
  },
  {
   "cell_type": "code",
   "execution_count": 12,
   "metadata": {},
   "outputs": [
    {
     "name": "stdout",
     "output_type": "stream",
     "text": [
      "Знак зодиака:Козерог\n"
     ]
    }
   ],
   "source": [
    "if (date>=21 and date<=31 and month==\"март\") or( month==\"апрель\" and date>=1 and date<=19):\n",
    "\n",
    "   print(\"Знак зодиака:Овен\")\n",
    "\n",
    "elif (date>=20 and date<=30 and month==\"апрель\") or( month==\"май\" and date>=1 and date<=20):\n",
    "\n",
    "   print(\"Знак зодиака:Телец\")\n",
    "\n",
    "elif (date>=21 and date<=31 and month==\"май\") or( month==\"июнь\" and date>=1 and date<=21):\n",
    "\n",
    "   print(\"Знак зодиака:Близнецы\")\n",
    "\n",
    "elif (date>=22 and date<=30 and month==\"июнь\") or( month==\"июль\" and date>=1 and date<=22):\n",
    "\n",
    "   print(\"Знак зодиака:Рак\")\n",
    "\n",
    "elif (date>=23 and date<=31 and month==\"июль\") or( month==\"fduecn\" and date>=1 and date<=22):\n",
    "\n",
    "   print(\"Знак зодиака:Лев\")\n",
    "\n",
    "elif (date>=23 and date<=31 and month==\"август\") or( month==\"сентябрь\" and date>=1 and date<=22):\n",
    "\n",
    "   print(\"Знак зодиака:Дева\")\n",
    "\n",
    "elif (date>=23 and date<=30 and month==\"сентябрь\") or( month==\"октябрь\" and date>=1 and date<=23):\n",
    "\n",
    "   print(\"Знак зодиака:Весы\")\n",
    "\n",
    "elif (date>=24 and date<=31 and month==\"октябрь\") or( month==\"ноябрь\" and date>=1 and date<=22):\n",
    "\n",
    "   print(\"Знак зодиака:Скорпион\")\n",
    "\n",
    "elif (date>=23 and date<=30 and month==\"ноябрь\") or( month==\"декабрь\" and date>=1 and date<=21):\n",
    "\n",
    "   print(\"Знак зодиака:Стрелец\")\n",
    "\n",
    "elif (date>=22 and date<=31 and month==\"декабрь\") or( month==\"январь\" and date>=1 and date<=20):\n",
    "\n",
    "   print(\"Знак зодиака:Козерог\")\n",
    "\n",
    "elif (date>=21 and date<=31 and month==\"январь\") or( month==\"февраль\" and date>=1 and date<=18):\n",
    "    print(\"Знак зодиака:Водолей\")\n",
    "\n",
    "elif (date>=19 and date<=29 and month==\"февраль\") or( month==\"март\" and date>=1 and date<=20):\n",
    "\n",
    "   print(\"Знак зодиака:Рыбы\")\n",
    "\n"
   ]
  },
  {
   "cell_type": "code",
   "execution_count": null,
   "metadata": {},
   "outputs": [],
   "source": []
  }
 ],
 "metadata": {
  "kernelspec": {
   "display_name": "Python 3",
   "language": "python",
   "name": "python3"
  },
  "language_info": {
   "codemirror_mode": {
    "name": "ipython",
    "version": 3
   },
   "file_extension": ".py",
   "mimetype": "text/x-python",
   "name": "python",
   "nbconvert_exporter": "python",
   "pygments_lexer": "ipython3",
   "version": "3.8.5"
  }
 },
 "nbformat": 4,
 "nbformat_minor": 4
}
