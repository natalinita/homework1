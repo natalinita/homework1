{
 "cells": [
  {
   "cell_type": "code",
   "execution_count": 18,
   "metadata": {},
   "outputs": [],
   "source": [
    "width=80\n",
    "length=65\n",
    "hight=63"
   ]
  },
  {
   "cell_type": "code",
   "execution_count": 19,
   "metadata": {},
   "outputs": [
    {
     "name": "stdout",
     "output_type": "stream",
     "text": [
      "коробка №3\n"
     ]
    }
   ],
   "source": [
    "if length>200:\n",
    "    print (\"упаковка для лыж\")\n",
    "elif width<15 or length <15 or hight <15:\n",
    "    print (\"коробка №1\")\n",
    "elif width <50 or length <50 or hight< 50:\n",
    "    print (\"коробка №2\")\n",
    "else:\n",
    "    print (\"коробка №3\")\n",
    "\n",
    "   "
   ]
  },
  {
   "cell_type": "code",
   "execution_count": null,
   "metadata": {},
   "outputs": [],
   "source": []
  }
 ],
 "metadata": {
  "kernelspec": {
   "display_name": "Python 3",
   "language": "python",
   "name": "python3"
  },
  "language_info": {
   "codemirror_mode": {
    "name": "ipython",
    "version": 3
   },
   "file_extension": ".py",
   "mimetype": "text/x-python",
   "name": "python",
   "nbconvert_exporter": "python",
   "pygments_lexer": "ipython3",
   "version": "3.8.5"
  }
 },
 "nbformat": 4,
 "nbformat_minor": 4
}
